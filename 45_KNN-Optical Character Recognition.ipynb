{
 "cells": [
  {
   "cell_type": "markdown",
   "metadata": {},
   "source": [
    "<a href='https://www.hexnbit.com/'> <img src='https://www.hexnbit.com/wp-content/uploads/2019/09/hexnbit_final_66px.png'/> </a>"
   ]
  },
  {
   "cell_type": "markdown",
   "metadata": {},
   "source": [
    "# Optical Character Recognition (OCR)\n",
    "It is a process to convert images of typed, handwritten or printed text into machine-encoded text. The images may be from scanned documents, photo of a documents, a scene-photo (number plate of car, speed and warning road signs, etc)"
   ]
  },
  {
   "cell_type": "markdown",
   "metadata": {},
   "source": [
    "Here, we will use an image containing samples of digits from 0-9 to train the model.\n",
    "Once the model is trained, we will select a radom number and recognize the value of the number using the KNN model"
   ]
  },
  {
   "cell_type": "markdown",
   "metadata": {},
   "source": [
    "### Importing Libraries"
   ]
  },
  {
   "cell_type": "code",
   "execution_count": 1,
   "metadata": {},
   "outputs": [],
   "source": [
    "import numpy as np\n",
    "import cv2"
   ]
  },
  {
   "cell_type": "markdown",
   "metadata": {},
   "source": [
    "### Reading Image\n",
    "Image contains numbers from 0 to 9. The image has 50 rows (5 rows for each number) and 100 columns (10 columns for each number).<br>\n",
    "Hence, each number has 500 samples. Each digit sample spans 20 pixels by 20 pixels."
   ]
  },
  {
   "cell_type": "code",
   "execution_count": 2,
   "metadata": {},
   "outputs": [],
   "source": [
    "path=\"digits.png\"\n",
    "img=cv2.imread(path,0)"
   ]
  },
  {
   "cell_type": "markdown",
   "metadata": {},
   "source": [
    "### Displaying Image"
   ]
  },
  {
   "cell_type": "code",
   "execution_count": 3,
   "metadata": {},
   "outputs": [],
   "source": [
    "cv2.namedWindow(\"Digit Image\", cv2.WINDOW_NORMAL)  # to make the window manually resizeable\n",
    "cv2.imshow(\"Digit Image\",img)\n",
    "cv2.waitKey(0)\n",
    "cv2.destroyAllWindows()"
   ]
  },
  {
   "cell_type": "markdown",
   "metadata": {},
   "source": [
    "### Splitting Rows and Columns in order to separate all digits"
   ]
  },
  {
   "cell_type": "code",
   "execution_count": 4,
   "metadata": {},
   "outputs": [
    {
     "name": "stdout",
     "output_type": "stream",
     "text": [
      "(50, 100, 20, 20)\n"
     ]
    }
   ],
   "source": [
    "# hsplit: splits the numpy array into multiple arrays column wise\n",
    "# vsplit: splits the numpy array into multiple arrays row wise\n",
    "# since, 50 rows are there and 100 columns are there, if we split complete image into 50 rows and 100 columns,\n",
    "# we will be able to index each digit separatly\n",
    "\n",
    "cells = [np.hsplit(row,100) for row in np.vsplit(img,50)]\n",
    "# Convert it into a Numpy array. Size will be (50,100,20,20)\n",
    "digit_database= np.array(cells)\n",
    "print(digit_database.shape)"
   ]
  },
  {
   "cell_type": "markdown",
   "metadata": {},
   "source": [
    "### Selecting a digit, printing and displaying it"
   ]
  },
  {
   "cell_type": "code",
   "execution_count": 5,
   "metadata": {
    "scrolled": false
   },
   "outputs": [
    {
     "name": "stdout",
     "output_type": "stream",
     "text": [
      "[[  0   0   0   0   0   0   0   0   0   0   0   0   0   0   0   0   0   0\n",
      "    0   0]\n",
      " [  0   0   0   0   0   0   0   0   0   0   0   0   0   0   0   0   0   0\n",
      "    0   0]\n",
      " [  0   0   0   0   0   0   0   0   0   0   0   9  33   9   0   0   0   0\n",
      "    0   0]\n",
      " [  0   0   0   0   0   0   0   0   0   0  41 177 249 178  29   0   0   0\n",
      "    0   0]\n",
      " [  0   0   0   0   0   0   0   0   0  33 198 255 240 255 107   0   0   0\n",
      "    0   0]\n",
      " [  0   0   0   0   0   0   0   1  70 199 255 255 197 154 253  98   0   0\n",
      "    0   0]\n",
      " [  0   0   0   0   0   0   0  45 238 255 205 224 222  83 224 128   0   0\n",
      "    0   0]\n",
      " [  0   0   0   0   0   0  25 202 255 193  40  99  54   0 190 197  16   0\n",
      "    0   0]\n",
      " [  0   0   0   0   0  20 163 246 152  72   0   0   0   0 184 252  74   0\n",
      "    0   0]\n",
      " [  0   0   0   0   0  97 255 118   0   1   0   0   0   0 184 255  82   0\n",
      "    0   0]\n",
      " [  0   0   0   0  20 218 216  17   0   0   0   0   0   0 183 255  78   0\n",
      "    0   0]\n",
      " [  0   0   0   0  67 255 138   0   0   0   0   0   0  24 215 188  22   0\n",
      "    0   0]\n",
      " [  0   0   0   0  69 247  87   0   0   0   0   0  31 185 212  54   0   0\n",
      "    0   0]\n",
      " [  0   0   0   0  71 237  68   0   0   0   0  94 211 177  17   0   0   0\n",
      "    0   0]\n",
      " [  0   0   0   0  69 255 170  39  39 115 183 238 185  37   0   0   0   0\n",
      "    0   0]\n",
      " [  0   0   0   0  57 245 255 229 233 255 216 117  13   0   0   0   0   0\n",
      "    0   0]\n",
      " [  0   0   0   0   7 114 230 255 234 137  38   0   0   0   0   0   0   0\n",
      "    0   0]\n",
      " [  0   0   0   0   0   0  26  38  27   0   0   0   0   0   0   0   0   0\n",
      "    0   0]\n",
      " [  0   0   0   0   0   0   0   0   0   0   0   0   0   0   0   0   0   0\n",
      "    0   0]\n",
      " [  0   0   0   0   0   0   0   0   0   0   0   0   0   0   0   0   0   0\n",
      "    0   0]]\n"
     ]
    }
   ],
   "source": [
    "selected_digit=digit_database[0][0] # digit at row 0, column zero\n",
    "print(selected_digit)\n",
    "cv2.imshow(\"Digit\",selected_digit)\n",
    "cv2.waitKey(0)\n",
    "cv2.destroyAllWindows()"
   ]
  },
  {
   "cell_type": "markdown",
   "metadata": {},
   "source": [
    "### Creating Training and Testing Dataset\n",
    "0-49 columns selected as training data<br>\n",
    "50 to 99 columns selected as testing data"
   ]
  },
  {
   "cell_type": "code",
   "execution_count": 6,
   "metadata": {},
   "outputs": [
    {
     "data": {
      "text/plain": [
       "4"
      ]
     },
     "execution_count": 6,
     "metadata": {},
     "output_type": "execute_result"
    }
   ],
   "source": [
    "digit_database.ndim  # digit_database is 4 dimensional"
   ]
  },
  {
   "cell_type": "code",
   "execution_count": 7,
   "metadata": {},
   "outputs": [],
   "source": [
    "X_train = digit_database[:,:50].reshape(-1,400).astype(np.float32) # Shape = (2500,400)\n",
    "X_test = digit_database[:,50:100].reshape(-1,400).astype(np.float32) # Shape = (2500,400)"
   ]
  },
  {
   "cell_type": "code",
   "execution_count": 8,
   "metadata": {},
   "outputs": [
    {
     "data": {
      "text/plain": [
       "2"
      ]
     },
     "execution_count": 8,
     "metadata": {},
     "output_type": "execute_result"
    }
   ],
   "source": [
    "X_train.ndim  # we reshaped slice of digit_database, hence X_train and X_test are 2 dimensional"
   ]
  },
  {
   "cell_type": "code",
   "execution_count": 9,
   "metadata": {},
   "outputs": [
    {
     "data": {
      "text/plain": [
       "(2500, 400)"
      ]
     },
     "execution_count": 9,
     "metadata": {},
     "output_type": "execute_result"
    }
   ],
   "source": [
    "X_train.shape # X_train and X_test are of shape (2500,400) as we have 50 rows and 50 columns in each and each element is 20x20"
   ]
  },
  {
   "cell_type": "markdown",
   "metadata": {},
   "source": [
    "### Creating Labels\n",
    "We know that in traning data there were initially 5 rows for each digit and 50 columns for each digit and since we reshaped it, we have 250 rows for each digit.<br>\n",
    "There are numbers from 0 to 9, so we need to create a numpy array which holds each digit 250 times"
   ]
  },
  {
   "cell_type": "markdown",
   "metadata": {},
   "source": [
    "#### Dummy (Only to demonstrate)"
   ]
  },
  {
   "cell_type": "code",
   "execution_count": 10,
   "metadata": {
    "scrolled": true
   },
   "outputs": [
    {
     "data": {
      "text/plain": [
       "array([[0],\n",
       "       [0],\n",
       "       [0],\n",
       "       [1],\n",
       "       [1],\n",
       "       [1],\n",
       "       [2],\n",
       "       [2],\n",
       "       [2],\n",
       "       [3],\n",
       "       [3],\n",
       "       [3],\n",
       "       [4],\n",
       "       [4],\n",
       "       [4],\n",
       "       [5],\n",
       "       [5],\n",
       "       [5],\n",
       "       [6],\n",
       "       [6],\n",
       "       [6],\n",
       "       [7],\n",
       "       [7],\n",
       "       [7],\n",
       "       [8],\n",
       "       [8],\n",
       "       [8],\n",
       "       [9],\n",
       "       [9],\n",
       "       [9]])"
      ]
     },
     "execution_count": 10,
     "metadata": {},
     "output_type": "execute_result"
    }
   ],
   "source": [
    "k=np.arange(10)\n",
    "Y_train=np.repeat(k,3)\n",
    "Y_train=np.repeat(k,3)[:,np.newaxis]\n",
    "Y_train"
   ]
  },
  {
   "cell_type": "markdown",
   "metadata": {},
   "source": [
    "#### Actual Labels"
   ]
  },
  {
   "cell_type": "code",
   "execution_count": 11,
   "metadata": {
    "scrolled": true
   },
   "outputs": [],
   "source": [
    "k = np.arange(10)\n",
    "Y_train = np.repeat(k,250)[:,np.newaxis]"
   ]
  },
  {
   "cell_type": "code",
   "execution_count": 12,
   "metadata": {},
   "outputs": [],
   "source": [
    "# Since testing data also has data arranged in similar fashion, we are copying the labels\n",
    "Y_test = Y_train.copy()"
   ]
  },
  {
   "cell_type": "markdown",
   "metadata": {},
   "source": [
    "### Creating Model, Training and Predicting"
   ]
  },
  {
   "cell_type": "code",
   "execution_count": 13,
   "metadata": {},
   "outputs": [],
   "source": [
    "knn =  cv2.ml.KNearest_create()  # initilazing\n",
    "knn.train(X_train,cv2.ml.ROW_SAMPLE,Y_train)  # training model\n",
    "ret,result,neighbours,dist = knn.findNearest(X_test,k=5)  # predicting results for testing data with K=5"
   ]
  },
  {
   "cell_type": "markdown",
   "metadata": {},
   "source": [
    "### Evaluating Performance"
   ]
  },
  {
   "cell_type": "code",
   "execution_count": 14,
   "metadata": {},
   "outputs": [
    {
     "data": {
      "text/plain": [
       "array([[ True],\n",
       "       [ True],\n",
       "       [ True],\n",
       "       ...,\n",
       "       [ True],\n",
       "       [ True],\n",
       "       [ True]])"
      ]
     },
     "execution_count": 14,
     "metadata": {},
     "output_type": "execute_result"
    }
   ],
   "source": [
    "result==Y_test"
   ]
  },
  {
   "cell_type": "code",
   "execution_count": 15,
   "metadata": {},
   "outputs": [
    {
     "name": "stdout",
     "output_type": "stream",
     "text": [
      "91.76\n"
     ]
    }
   ],
   "source": [
    "matches = (result==Y_test)\n",
    "correct = np.count_nonzero(matches)\n",
    "accuracy = correct*100.0/result.size\n",
    "print(accuracy)"
   ]
  },
  {
   "cell_type": "markdown",
   "metadata": {},
   "source": [
    "### Handpicking a sample"
   ]
  },
  {
   "cell_type": "code",
   "execution_count": 16,
   "metadata": {},
   "outputs": [],
   "source": [
    "# Selecting Sample at index 600 and reshaping it to 20x20 to display it\n",
    "cv2.imshow(\"Sample 1\",X_test[479].reshape(20,20))\n",
    "cv2.waitKey(0)\n",
    "cv2.destroyAllWindows()"
   ]
  },
  {
   "cell_type": "markdown",
   "metadata": {},
   "source": [
    "### Recognizing which digit was selected"
   ]
  },
  {
   "cell_type": "code",
   "execution_count": 17,
   "metadata": {},
   "outputs": [],
   "source": [
    "ret,result,neighbours,dist=knn.findNearest(X_test[479:480],k=5)"
   ]
  },
  {
   "cell_type": "code",
   "execution_count": 18,
   "metadata": {
    "scrolled": true
   },
   "outputs": [
    {
     "name": "stdout",
     "output_type": "stream",
     "text": [
      "1.0\n",
      "Digit Recognized as:  [[1.]]\n",
      "Nearest Neighbors:  [[1. 1. 1. 1. 1.]]\n",
      "Distance from Nearest Neighbors:  [[116267. 133869. 147886. 148969. 169892.]]\n"
     ]
    }
   ],
   "source": [
    "print(ret)\n",
    "print(\"Digit Recognized as: \",result)\n",
    "print(\"Nearest Neighbors: \",neighbours)\n",
    "print(\"Distance from Nearest Neighbors: \",dist)"
   ]
  },
  {
   "cell_type": "code",
   "execution_count": null,
   "metadata": {},
   "outputs": [],
   "source": []
  }
 ],
 "metadata": {
  "kernelspec": {
   "display_name": "Python 3 (ipykernel)",
   "language": "python",
   "name": "python3"
  },
  "language_info": {
   "codemirror_mode": {
    "name": "ipython",
    "version": 3
   },
   "file_extension": ".py",
   "mimetype": "text/x-python",
   "name": "python",
   "nbconvert_exporter": "python",
   "pygments_lexer": "ipython3",
   "version": "3.10.9"
  }
 },
 "nbformat": 4,
 "nbformat_minor": 4
}
